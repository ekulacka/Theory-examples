{
 "cells": [
  {
   "cell_type": "code",
   "execution_count": 1,
   "metadata": {},
   "outputs": [],
   "source": [
    "import pandas as pd\n",
    "import numpy as np"
   ]
  },
  {
   "cell_type": "code",
   "execution_count": 6,
   "metadata": {},
   "outputs": [
    {
     "data": {
      "text/html": [
       "<div>\n",
       "<style scoped>\n",
       "    .dataframe tbody tr th:only-of-type {\n",
       "        vertical-align: middle;\n",
       "    }\n",
       "\n",
       "    .dataframe tbody tr th {\n",
       "        vertical-align: top;\n",
       "    }\n",
       "\n",
       "    .dataframe thead th {\n",
       "        text-align: right;\n",
       "    }\n",
       "</style>\n",
       "<table border=\"1\" class=\"dataframe\">\n",
       "  <thead>\n",
       "    <tr style=\"text-align: right;\">\n",
       "      <th></th>\n",
       "      <th>wiek</th>\n",
       "      <th>miasto</th>\n",
       "      <th>zawód</th>\n",
       "    </tr>\n",
       "  </thead>\n",
       "  <tbody>\n",
       "    <tr>\n",
       "      <th>Anna</th>\n",
       "      <td>25</td>\n",
       "      <td>Warszawa</td>\n",
       "      <td>kasjerka</td>\n",
       "    </tr>\n",
       "    <tr>\n",
       "      <th>Jan</th>\n",
       "      <td>30</td>\n",
       "      <td>Poznan</td>\n",
       "      <td>elektryk</td>\n",
       "    </tr>\n",
       "    <tr>\n",
       "      <th>Beata</th>\n",
       "      <td>43</td>\n",
       "      <td>Wroclaw</td>\n",
       "      <td>fryzjerka</td>\n",
       "    </tr>\n",
       "    <tr>\n",
       "      <th>Stefan</th>\n",
       "      <td>33</td>\n",
       "      <td>Krakow</td>\n",
       "      <td>mechanik</td>\n",
       "    </tr>\n",
       "    <tr>\n",
       "      <th>Zygmunt</th>\n",
       "      <td>70</td>\n",
       "      <td>Łódź</td>\n",
       "      <td>szewc</td>\n",
       "    </tr>\n",
       "  </tbody>\n",
       "</table>\n",
       "</div>"
      ],
      "text/plain": [
       "         wiek    miasto      zawód\n",
       "Anna       25  Warszawa   kasjerka\n",
       "Jan        30    Poznan   elektryk\n",
       "Beata      43   Wroclaw  fryzjerka\n",
       "Stefan     33    Krakow   mechanik\n",
       "Zygmunt    70      Łódź      szewc"
      ]
     },
     "execution_count": 6,
     "metadata": {},
     "output_type": "execute_result"
    }
   ],
   "source": [
    "dane={\n",
    "    'wiek':[25,30,43,33,70],\n",
    "    'miasto':['Warszawa','Poznan','Wroclaw','Krakow','Łódź'],\n",
    "    'zawód':['kasjerka','elektryk','fryzjerka','mechanik','szewc']}\n",
    "\n",
    "\n",
    "index=pd.Series(['Anna','Jan','Beata','Stefan','Zygmunt'])\n",
    "osoby=pd.DataFrame(dane)\n",
    "osoby=osoby.set_index(index)\n",
    "osoby"
   ]
  },
  {
   "cell_type": "code",
   "execution_count": 4,
   "metadata": {},
   "outputs": [
    {
     "data": {
      "text/plain": [
       "Anna        kasjerka\n",
       "Jan         elektryk\n",
       "Beata      fryzjerka\n",
       "Stefan      mechanik\n",
       "Zygmunt        szewc\n",
       "Name: zawód, dtype: object"
      ]
     },
     "execution_count": 4,
     "metadata": {},
     "output_type": "execute_result"
    }
   ],
   "source": [
    "osoby['zawód']"
   ]
  },
  {
   "cell_type": "code",
   "execution_count": 5,
   "metadata": {},
   "outputs": [
    {
     "data": {
      "text/html": [
       "<div>\n",
       "<style scoped>\n",
       "    .dataframe tbody tr th:only-of-type {\n",
       "        vertical-align: middle;\n",
       "    }\n",
       "\n",
       "    .dataframe tbody tr th {\n",
       "        vertical-align: top;\n",
       "    }\n",
       "\n",
       "    .dataframe thead th {\n",
       "        text-align: right;\n",
       "    }\n",
       "</style>\n",
       "<table border=\"1\" class=\"dataframe\">\n",
       "  <thead>\n",
       "    <tr style=\"text-align: right;\">\n",
       "      <th></th>\n",
       "      <th>wiek</th>\n",
       "      <th>miasto</th>\n",
       "    </tr>\n",
       "  </thead>\n",
       "  <tbody>\n",
       "    <tr>\n",
       "      <th>Anna</th>\n",
       "      <td>25</td>\n",
       "      <td>Warszawa</td>\n",
       "    </tr>\n",
       "    <tr>\n",
       "      <th>Jan</th>\n",
       "      <td>30</td>\n",
       "      <td>Poznan</td>\n",
       "    </tr>\n",
       "    <tr>\n",
       "      <th>Beata</th>\n",
       "      <td>43</td>\n",
       "      <td>Wroclaw</td>\n",
       "    </tr>\n",
       "    <tr>\n",
       "      <th>Stefan</th>\n",
       "      <td>33</td>\n",
       "      <td>Krakow</td>\n",
       "    </tr>\n",
       "    <tr>\n",
       "      <th>Zygmunt</th>\n",
       "      <td>70</td>\n",
       "      <td>Łódź</td>\n",
       "    </tr>\n",
       "  </tbody>\n",
       "</table>\n",
       "</div>"
      ],
      "text/plain": [
       "         wiek    miasto\n",
       "Anna       25  Warszawa\n",
       "Jan        30    Poznan\n",
       "Beata      43   Wroclaw\n",
       "Stefan     33    Krakow\n",
       "Zygmunt    70      Łódź"
      ]
     },
     "execution_count": 5,
     "metadata": {},
     "output_type": "execute_result"
    }
   ],
   "source": [
    "osoby[['wiek','miasto']]"
   ]
  },
  {
   "cell_type": "code",
   "execution_count": 7,
   "metadata": {},
   "outputs": [
    {
     "data": {
      "text/plain": [
       "wiek            25\n",
       "miasto    Warszawa\n",
       "zawód     kasjerka\n",
       "Name: Anna, dtype: object"
      ]
     },
     "execution_count": 7,
     "metadata": {},
     "output_type": "execute_result"
    }
   ],
   "source": [
    "osoby.loc['Anna']"
   ]
  },
  {
   "cell_type": "code",
   "execution_count": 8,
   "metadata": {},
   "outputs": [
    {
     "data": {
      "text/plain": [
       "wiek            25\n",
       "miasto    Warszawa\n",
       "zawód     kasjerka\n",
       "Name: Anna, dtype: object"
      ]
     },
     "execution_count": 8,
     "metadata": {},
     "output_type": "execute_result"
    }
   ],
   "source": [
    "osoby.iloc[0]"
   ]
  },
  {
   "cell_type": "code",
   "execution_count": 9,
   "metadata": {},
   "outputs": [
    {
     "data": {
      "text/html": [
       "<div>\n",
       "<style scoped>\n",
       "    .dataframe tbody tr th:only-of-type {\n",
       "        vertical-align: middle;\n",
       "    }\n",
       "\n",
       "    .dataframe tbody tr th {\n",
       "        vertical-align: top;\n",
       "    }\n",
       "\n",
       "    .dataframe thead th {\n",
       "        text-align: right;\n",
       "    }\n",
       "</style>\n",
       "<table border=\"1\" class=\"dataframe\">\n",
       "  <thead>\n",
       "    <tr style=\"text-align: right;\">\n",
       "      <th></th>\n",
       "      <th>wiek</th>\n",
       "      <th>miasto</th>\n",
       "      <th>zawód</th>\n",
       "    </tr>\n",
       "  </thead>\n",
       "  <tbody>\n",
       "    <tr>\n",
       "      <th>Anna</th>\n",
       "      <td>25</td>\n",
       "      <td>Warszawa</td>\n",
       "      <td>kasjerka</td>\n",
       "    </tr>\n",
       "    <tr>\n",
       "      <th>Jan</th>\n",
       "      <td>30</td>\n",
       "      <td>Poznan</td>\n",
       "      <td>elektryk</td>\n",
       "    </tr>\n",
       "    <tr>\n",
       "      <th>Beata</th>\n",
       "      <td>43</td>\n",
       "      <td>Wroclaw</td>\n",
       "      <td>fryzjerka</td>\n",
       "    </tr>\n",
       "    <tr>\n",
       "      <th>Stefan</th>\n",
       "      <td>33</td>\n",
       "      <td>Krakow</td>\n",
       "      <td>mechanik</td>\n",
       "    </tr>\n",
       "  </tbody>\n",
       "</table>\n",
       "</div>"
      ],
      "text/plain": [
       "        wiek    miasto      zawód\n",
       "Anna      25  Warszawa   kasjerka\n",
       "Jan       30    Poznan   elektryk\n",
       "Beata     43   Wroclaw  fryzjerka\n",
       "Stefan    33    Krakow   mechanik"
      ]
     },
     "execution_count": 9,
     "metadata": {},
     "output_type": "execute_result"
    }
   ],
   "source": [
    "osoby.loc[['Anna','Jan','Beata','Stefan']]"
   ]
  },
  {
   "cell_type": "code",
   "execution_count": 10,
   "metadata": {},
   "outputs": [
    {
     "data": {
      "text/html": [
       "<div>\n",
       "<style scoped>\n",
       "    .dataframe tbody tr th:only-of-type {\n",
       "        vertical-align: middle;\n",
       "    }\n",
       "\n",
       "    .dataframe tbody tr th {\n",
       "        vertical-align: top;\n",
       "    }\n",
       "\n",
       "    .dataframe thead th {\n",
       "        text-align: right;\n",
       "    }\n",
       "</style>\n",
       "<table border=\"1\" class=\"dataframe\">\n",
       "  <thead>\n",
       "    <tr style=\"text-align: right;\">\n",
       "      <th></th>\n",
       "      <th>wiek</th>\n",
       "      <th>miasto</th>\n",
       "      <th>zawód</th>\n",
       "    </tr>\n",
       "  </thead>\n",
       "  <tbody>\n",
       "    <tr>\n",
       "      <th>Anna</th>\n",
       "      <td>25</td>\n",
       "      <td>Warszawa</td>\n",
       "      <td>kasjerka</td>\n",
       "    </tr>\n",
       "    <tr>\n",
       "      <th>Jan</th>\n",
       "      <td>30</td>\n",
       "      <td>Poznan</td>\n",
       "      <td>elektryk</td>\n",
       "    </tr>\n",
       "    <tr>\n",
       "      <th>Beata</th>\n",
       "      <td>43</td>\n",
       "      <td>Wroclaw</td>\n",
       "      <td>fryzjerka</td>\n",
       "    </tr>\n",
       "    <tr>\n",
       "      <th>Stefan</th>\n",
       "      <td>33</td>\n",
       "      <td>Krakow</td>\n",
       "      <td>mechanik</td>\n",
       "    </tr>\n",
       "  </tbody>\n",
       "</table>\n",
       "</div>"
      ],
      "text/plain": [
       "        wiek    miasto      zawód\n",
       "Anna      25  Warszawa   kasjerka\n",
       "Jan       30    Poznan   elektryk\n",
       "Beata     43   Wroclaw  fryzjerka\n",
       "Stefan    33    Krakow   mechanik"
      ]
     },
     "execution_count": 10,
     "metadata": {},
     "output_type": "execute_result"
    }
   ],
   "source": [
    "osoby.iloc[[0,1,2,3]]"
   ]
  },
  {
   "cell_type": "code",
   "execution_count": 11,
   "metadata": {},
   "outputs": [
    {
     "data": {
      "text/html": [
       "<div>\n",
       "<style scoped>\n",
       "    .dataframe tbody tr th:only-of-type {\n",
       "        vertical-align: middle;\n",
       "    }\n",
       "\n",
       "    .dataframe tbody tr th {\n",
       "        vertical-align: top;\n",
       "    }\n",
       "\n",
       "    .dataframe thead th {\n",
       "        text-align: right;\n",
       "    }\n",
       "</style>\n",
       "<table border=\"1\" class=\"dataframe\">\n",
       "  <thead>\n",
       "    <tr style=\"text-align: right;\">\n",
       "      <th></th>\n",
       "      <th>wiek</th>\n",
       "      <th>miasto</th>\n",
       "      <th>zawód</th>\n",
       "    </tr>\n",
       "  </thead>\n",
       "  <tbody>\n",
       "    <tr>\n",
       "      <th>Anna</th>\n",
       "      <td>25</td>\n",
       "      <td>Warszawa</td>\n",
       "      <td>kasjerka</td>\n",
       "    </tr>\n",
       "    <tr>\n",
       "      <th>Jan</th>\n",
       "      <td>30</td>\n",
       "      <td>Poznan</td>\n",
       "      <td>elektryk</td>\n",
       "    </tr>\n",
       "    <tr>\n",
       "      <th>Beata</th>\n",
       "      <td>43</td>\n",
       "      <td>Wroclaw</td>\n",
       "      <td>fryzjerka</td>\n",
       "    </tr>\n",
       "    <tr>\n",
       "      <th>Stefan</th>\n",
       "      <td>33</td>\n",
       "      <td>Krakow</td>\n",
       "      <td>mechanik</td>\n",
       "    </tr>\n",
       "  </tbody>\n",
       "</table>\n",
       "</div>"
      ],
      "text/plain": [
       "        wiek    miasto      zawód\n",
       "Anna      25  Warszawa   kasjerka\n",
       "Jan       30    Poznan   elektryk\n",
       "Beata     43   Wroclaw  fryzjerka\n",
       "Stefan    33    Krakow   mechanik"
      ]
     },
     "execution_count": 11,
     "metadata": {},
     "output_type": "execute_result"
    }
   ],
   "source": [
    "osoby.loc[\"Anna\":'Stefan']"
   ]
  },
  {
   "cell_type": "code",
   "execution_count": 16,
   "metadata": {},
   "outputs": [
    {
     "data": {
      "text/html": [
       "<div>\n",
       "<style scoped>\n",
       "    .dataframe tbody tr th:only-of-type {\n",
       "        vertical-align: middle;\n",
       "    }\n",
       "\n",
       "    .dataframe tbody tr th {\n",
       "        vertical-align: top;\n",
       "    }\n",
       "\n",
       "    .dataframe thead th {\n",
       "        text-align: right;\n",
       "    }\n",
       "</style>\n",
       "<table border=\"1\" class=\"dataframe\">\n",
       "  <thead>\n",
       "    <tr style=\"text-align: right;\">\n",
       "      <th></th>\n",
       "      <th>wiek</th>\n",
       "      <th>miasto</th>\n",
       "      <th>zawód</th>\n",
       "    </tr>\n",
       "  </thead>\n",
       "  <tbody>\n",
       "    <tr>\n",
       "      <th>Anna</th>\n",
       "      <td>25</td>\n",
       "      <td>Warszawa</td>\n",
       "      <td>kasjerka</td>\n",
       "    </tr>\n",
       "    <tr>\n",
       "      <th>Jan</th>\n",
       "      <td>30</td>\n",
       "      <td>Poznan</td>\n",
       "      <td>elektryk</td>\n",
       "    </tr>\n",
       "    <tr>\n",
       "      <th>Beata</th>\n",
       "      <td>43</td>\n",
       "      <td>Wroclaw</td>\n",
       "      <td>fryzjerka</td>\n",
       "    </tr>\n",
       "    <tr>\n",
       "      <th>Stefan</th>\n",
       "      <td>33</td>\n",
       "      <td>Krakow</td>\n",
       "      <td>mechanik</td>\n",
       "    </tr>\n",
       "  </tbody>\n",
       "</table>\n",
       "</div>"
      ],
      "text/plain": [
       "        wiek    miasto      zawód\n",
       "Anna      25  Warszawa   kasjerka\n",
       "Jan       30    Poznan   elektryk\n",
       "Beata     43   Wroclaw  fryzjerka\n",
       "Stefan    33    Krakow   mechanik"
      ]
     },
     "execution_count": 16,
     "metadata": {},
     "output_type": "execute_result"
    }
   ],
   "source": [
    "osoby.iloc[0:4]"
   ]
  },
  {
   "cell_type": "code",
   "execution_count": 12,
   "metadata": {},
   "outputs": [
    {
     "data": {
      "text/html": [
       "<div>\n",
       "<style scoped>\n",
       "    .dataframe tbody tr th:only-of-type {\n",
       "        vertical-align: middle;\n",
       "    }\n",
       "\n",
       "    .dataframe tbody tr th {\n",
       "        vertical-align: top;\n",
       "    }\n",
       "\n",
       "    .dataframe thead th {\n",
       "        text-align: right;\n",
       "    }\n",
       "</style>\n",
       "<table border=\"1\" class=\"dataframe\">\n",
       "  <thead>\n",
       "    <tr style=\"text-align: right;\">\n",
       "      <th></th>\n",
       "      <th>wiek</th>\n",
       "      <th>zawód</th>\n",
       "    </tr>\n",
       "  </thead>\n",
       "  <tbody>\n",
       "    <tr>\n",
       "      <th>Jan</th>\n",
       "      <td>30</td>\n",
       "      <td>elektryk</td>\n",
       "    </tr>\n",
       "    <tr>\n",
       "      <th>Anna</th>\n",
       "      <td>25</td>\n",
       "      <td>kasjerka</td>\n",
       "    </tr>\n",
       "  </tbody>\n",
       "</table>\n",
       "</div>"
      ],
      "text/plain": [
       "      wiek     zawód\n",
       "Jan     30  elektryk\n",
       "Anna    25  kasjerka"
      ]
     },
     "execution_count": 12,
     "metadata": {},
     "output_type": "execute_result"
    }
   ],
   "source": [
    "osoby.loc[['Jan','Anna'],['wiek','zawód']]"
   ]
  },
  {
   "cell_type": "code",
   "execution_count": 15,
   "metadata": {},
   "outputs": [
    {
     "data": {
      "text/html": [
       "<div>\n",
       "<style scoped>\n",
       "    .dataframe tbody tr th:only-of-type {\n",
       "        vertical-align: middle;\n",
       "    }\n",
       "\n",
       "    .dataframe tbody tr th {\n",
       "        vertical-align: top;\n",
       "    }\n",
       "\n",
       "    .dataframe thead th {\n",
       "        text-align: right;\n",
       "    }\n",
       "</style>\n",
       "<table border=\"1\" class=\"dataframe\">\n",
       "  <thead>\n",
       "    <tr style=\"text-align: right;\">\n",
       "      <th></th>\n",
       "      <th>wiek</th>\n",
       "      <th>zawód</th>\n",
       "    </tr>\n",
       "  </thead>\n",
       "  <tbody>\n",
       "    <tr>\n",
       "      <th>Jan</th>\n",
       "      <td>30</td>\n",
       "      <td>elektryk</td>\n",
       "    </tr>\n",
       "    <tr>\n",
       "      <th>Anna</th>\n",
       "      <td>25</td>\n",
       "      <td>kasjerka</td>\n",
       "    </tr>\n",
       "  </tbody>\n",
       "</table>\n",
       "</div>"
      ],
      "text/plain": [
       "      wiek     zawód\n",
       "Jan     30  elektryk\n",
       "Anna    25  kasjerka"
      ]
     },
     "execution_count": 15,
     "metadata": {},
     "output_type": "execute_result"
    }
   ],
   "source": [
    "osoby.iloc[[1,0],[0,2]]"
   ]
  },
  {
   "cell_type": "code",
   "execution_count": 13,
   "metadata": {},
   "outputs": [
    {
     "data": {
      "text/html": [
       "<div>\n",
       "<style scoped>\n",
       "    .dataframe tbody tr th:only-of-type {\n",
       "        vertical-align: middle;\n",
       "    }\n",
       "\n",
       "    .dataframe tbody tr th {\n",
       "        vertical-align: top;\n",
       "    }\n",
       "\n",
       "    .dataframe thead th {\n",
       "        text-align: right;\n",
       "    }\n",
       "</style>\n",
       "<table border=\"1\" class=\"dataframe\">\n",
       "  <thead>\n",
       "    <tr style=\"text-align: right;\">\n",
       "      <th></th>\n",
       "      <th>wiek</th>\n",
       "      <th>miasto</th>\n",
       "      <th>zawód</th>\n",
       "    </tr>\n",
       "  </thead>\n",
       "  <tbody>\n",
       "    <tr>\n",
       "      <th>Jan</th>\n",
       "      <td>30</td>\n",
       "      <td>Poznan</td>\n",
       "      <td>elektryk</td>\n",
       "    </tr>\n",
       "    <tr>\n",
       "      <th>Beata</th>\n",
       "      <td>43</td>\n",
       "      <td>Wroclaw</td>\n",
       "      <td>fryzjerka</td>\n",
       "    </tr>\n",
       "    <tr>\n",
       "      <th>Stefan</th>\n",
       "      <td>33</td>\n",
       "      <td>Krakow</td>\n",
       "      <td>mechanik</td>\n",
       "    </tr>\n",
       "    <tr>\n",
       "      <th>Zygmunt</th>\n",
       "      <td>70</td>\n",
       "      <td>Łódź</td>\n",
       "      <td>szewc</td>\n",
       "    </tr>\n",
       "  </tbody>\n",
       "</table>\n",
       "</div>"
      ],
      "text/plain": [
       "         wiek   miasto      zawód\n",
       "Jan        30   Poznan   elektryk\n",
       "Beata      43  Wroclaw  fryzjerka\n",
       "Stefan     33   Krakow   mechanik\n",
       "Zygmunt    70     Łódź      szewc"
      ]
     },
     "execution_count": 13,
     "metadata": {},
     "output_type": "execute_result"
    }
   ],
   "source": [
    "osoby.loc['Jan':'Zygmunt','wiek':'zawód']"
   ]
  },
  {
   "cell_type": "code",
   "execution_count": 14,
   "metadata": {},
   "outputs": [
    {
     "data": {
      "text/html": [
       "<div>\n",
       "<style scoped>\n",
       "    .dataframe tbody tr th:only-of-type {\n",
       "        vertical-align: middle;\n",
       "    }\n",
       "\n",
       "    .dataframe tbody tr th {\n",
       "        vertical-align: top;\n",
       "    }\n",
       "\n",
       "    .dataframe thead th {\n",
       "        text-align: right;\n",
       "    }\n",
       "</style>\n",
       "<table border=\"1\" class=\"dataframe\">\n",
       "  <thead>\n",
       "    <tr style=\"text-align: right;\">\n",
       "      <th></th>\n",
       "      <th>wiek</th>\n",
       "      <th>miasto</th>\n",
       "      <th>zawód</th>\n",
       "    </tr>\n",
       "  </thead>\n",
       "  <tbody>\n",
       "    <tr>\n",
       "      <th>Jan</th>\n",
       "      <td>30</td>\n",
       "      <td>Poznan</td>\n",
       "      <td>elektryk</td>\n",
       "    </tr>\n",
       "    <tr>\n",
       "      <th>Beata</th>\n",
       "      <td>43</td>\n",
       "      <td>Wroclaw</td>\n",
       "      <td>fryzjerka</td>\n",
       "    </tr>\n",
       "    <tr>\n",
       "      <th>Stefan</th>\n",
       "      <td>33</td>\n",
       "      <td>Krakow</td>\n",
       "      <td>mechanik</td>\n",
       "    </tr>\n",
       "    <tr>\n",
       "      <th>Zygmunt</th>\n",
       "      <td>70</td>\n",
       "      <td>Łódź</td>\n",
       "      <td>szewc</td>\n",
       "    </tr>\n",
       "  </tbody>\n",
       "</table>\n",
       "</div>"
      ],
      "text/plain": [
       "         wiek   miasto      zawód\n",
       "Jan        30   Poznan   elektryk\n",
       "Beata      43  Wroclaw  fryzjerka\n",
       "Stefan     33   Krakow   mechanik\n",
       "Zygmunt    70     Łódź      szewc"
      ]
     },
     "execution_count": 14,
     "metadata": {},
     "output_type": "execute_result"
    }
   ],
   "source": [
    "osoby.iloc[1:5,0:3]"
   ]
  },
  {
   "cell_type": "code",
   "execution_count": 17,
   "metadata": {},
   "outputs": [
    {
     "data": {
      "text/html": [
       "<div>\n",
       "<style scoped>\n",
       "    .dataframe tbody tr th:only-of-type {\n",
       "        vertical-align: middle;\n",
       "    }\n",
       "\n",
       "    .dataframe tbody tr th {\n",
       "        vertical-align: top;\n",
       "    }\n",
       "\n",
       "    .dataframe thead th {\n",
       "        text-align: right;\n",
       "    }\n",
       "</style>\n",
       "<table border=\"1\" class=\"dataframe\">\n",
       "  <thead>\n",
       "    <tr style=\"text-align: right;\">\n",
       "      <th></th>\n",
       "      <th>wiek</th>\n",
       "      <th>miasto</th>\n",
       "      <th>zawód</th>\n",
       "    </tr>\n",
       "  </thead>\n",
       "  <tbody>\n",
       "    <tr>\n",
       "      <th>Jan</th>\n",
       "      <td>30</td>\n",
       "      <td>Poznan</td>\n",
       "      <td>elektryk</td>\n",
       "    </tr>\n",
       "    <tr>\n",
       "      <th>Beata</th>\n",
       "      <td>43</td>\n",
       "      <td>Wroclaw</td>\n",
       "      <td>fryzjerka</td>\n",
       "    </tr>\n",
       "    <tr>\n",
       "      <th>Stefan</th>\n",
       "      <td>33</td>\n",
       "      <td>Krakow</td>\n",
       "      <td>mechanik</td>\n",
       "    </tr>\n",
       "    <tr>\n",
       "      <th>Zygmunt</th>\n",
       "      <td>70</td>\n",
       "      <td>Łódź</td>\n",
       "      <td>szewc</td>\n",
       "    </tr>\n",
       "  </tbody>\n",
       "</table>\n",
       "</div>"
      ],
      "text/plain": [
       "         wiek   miasto      zawód\n",
       "Jan        30   Poznan   elektryk\n",
       "Beata      43  Wroclaw  fryzjerka\n",
       "Stefan     33   Krakow   mechanik\n",
       "Zygmunt    70     Łódź      szewc"
      ]
     },
     "execution_count": 17,
     "metadata": {},
     "output_type": "execute_result"
    }
   ],
   "source": [
    "osoby.loc['Jan':,'wiek':]"
   ]
  },
  {
   "cell_type": "code",
   "execution_count": 18,
   "metadata": {},
   "outputs": [
    {
     "data": {
      "text/html": [
       "<div>\n",
       "<style scoped>\n",
       "    .dataframe tbody tr th:only-of-type {\n",
       "        vertical-align: middle;\n",
       "    }\n",
       "\n",
       "    .dataframe tbody tr th {\n",
       "        vertical-align: top;\n",
       "    }\n",
       "\n",
       "    .dataframe thead th {\n",
       "        text-align: right;\n",
       "    }\n",
       "</style>\n",
       "<table border=\"1\" class=\"dataframe\">\n",
       "  <thead>\n",
       "    <tr style=\"text-align: right;\">\n",
       "      <th></th>\n",
       "      <th>wiek</th>\n",
       "      <th>miasto</th>\n",
       "      <th>zawód</th>\n",
       "    </tr>\n",
       "  </thead>\n",
       "  <tbody>\n",
       "    <tr>\n",
       "      <th>Jan</th>\n",
       "      <td>30</td>\n",
       "      <td>Poznan</td>\n",
       "      <td>elektryk</td>\n",
       "    </tr>\n",
       "    <tr>\n",
       "      <th>Beata</th>\n",
       "      <td>43</td>\n",
       "      <td>Wroclaw</td>\n",
       "      <td>fryzjerka</td>\n",
       "    </tr>\n",
       "    <tr>\n",
       "      <th>Stefan</th>\n",
       "      <td>33</td>\n",
       "      <td>Krakow</td>\n",
       "      <td>mechanik</td>\n",
       "    </tr>\n",
       "    <tr>\n",
       "      <th>Zygmunt</th>\n",
       "      <td>70</td>\n",
       "      <td>Łódź</td>\n",
       "      <td>szewc</td>\n",
       "    </tr>\n",
       "  </tbody>\n",
       "</table>\n",
       "</div>"
      ],
      "text/plain": [
       "         wiek   miasto      zawód\n",
       "Jan        30   Poznan   elektryk\n",
       "Beata      43  Wroclaw  fryzjerka\n",
       "Stefan     33   Krakow   mechanik\n",
       "Zygmunt    70     Łódź      szewc"
      ]
     },
     "execution_count": 18,
     "metadata": {},
     "output_type": "execute_result"
    }
   ],
   "source": [
    "osoby.iloc[1:,0:]"
   ]
  },
  {
   "cell_type": "code",
   "execution_count": 19,
   "metadata": {},
   "outputs": [
    {
     "data": {
      "text/plain": [
       "zawód     elektryk\n",
       "miasto      Poznan\n",
       "Name: Jan, dtype: object"
      ]
     },
     "execution_count": 19,
     "metadata": {},
     "output_type": "execute_result"
    }
   ],
   "source": [
    "osoby.loc['Jan',['zawód','miasto']]"
   ]
  },
  {
   "cell_type": "code",
   "execution_count": 20,
   "metadata": {},
   "outputs": [
    {
     "data": {
      "text/plain": [
       "Anna      Warszawa\n",
       "Jan         Poznan\n",
       "Beata      Wroclaw\n",
       "Stefan      Krakow\n",
       "Name: miasto, dtype: object"
      ]
     },
     "execution_count": 20,
     "metadata": {},
     "output_type": "execute_result"
    }
   ],
   "source": [
    "osoby.iloc[:4,1]"
   ]
  },
  {
   "cell_type": "code",
   "execution_count": null,
   "metadata": {},
   "outputs": [],
   "source": []
  }
 ],
 "metadata": {
  "kernelspec": {
   "display_name": "Python 3",
   "language": "python",
   "name": "python3"
  },
  "language_info": {
   "codemirror_mode": {
    "name": "ipython",
    "version": 3
   },
   "file_extension": ".py",
   "mimetype": "text/x-python",
   "name": "python",
   "nbconvert_exporter": "python",
   "pygments_lexer": "ipython3",
   "version": "3.7.4"
  }
 },
 "nbformat": 4,
 "nbformat_minor": 4
}
